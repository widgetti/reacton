{
 "cells": [
  {
   "cell_type": "markdown",
   "id": "b775a4db",
   "metadata": {},
   "source": [
    "# The anti-example\n",
    "\n",
    "A non-reusable pattern with the following problem:\n",
    "\n",
    " 1. The button description text is repeated in two places (initialization and the event handler).\n",
    " 2. An event handler is attached, but without a defined life cycle, it can be difficult to know when to detach it to avoid memory leaks.\n",
    " 3. The \"clicks\" variable is stored in the global scope, which may be concerning for some developers.\n",
    " 4. The code is not easily reusable or composable."
   ]
  },
  {
   "cell_type": "code",
   "execution_count": null,
   "id": "07612fd4",
   "metadata": {},
   "outputs": [],
   "source": [
    "import ipywidgets as widgets\n",
    "\n",
    "\n",
    "clicks = 0  # issue 3\n",
    "\n",
    "\n",
    "def on_click(button):\n",
    "    global clicks  # issue 3\n",
    "    clicks += 1\n",
    "    button.description = f\"Clicked {clicks} times\"  # issue 1\n",
    "\n",
    "\n",
    "button = widgets.Button(description=\"Clicked 0 times\")  # issue 1\n",
    "button.on_click(on_click)  # issue 2\n",
    "display(button)"
   ]
  },
  {
   "cell_type": "markdown",
   "id": "50a81948",
   "metadata": {},
   "source": [
    "# Using Reacton\n",
    "\n",
    " 1. The description f-string is only at 1 place.\n",
    " 2. The Event handler will be removed.\n",
    " 3. State is local, not mutable by external code.\n",
    " 4. We can reuse this Component.\n"
   ]
  },
  {
   "cell_type": "code",
   "execution_count": null,
   "id": "c2d9d28d",
   "metadata": {},
   "outputs": [],
   "source": [
    "import reacton\n",
    "import reacton.ipywidgets as w\n",
    "\n",
    "\n",
    "@reacton.component\n",
    "def ButtonClick():\n",
    "    # first render, this return 0, after that, the last argument\n",
    "    # of set_clicks\n",
    "    clicks, set_clicks = reacton.use_state(0)\n",
    "\n",
    "    def my_click_handler():\n",
    "        # trigger a new render with a new value for clicks\n",
    "        set_clicks(clicks + 1)\n",
    "\n",
    "    button = w.Button(description=f\"Clicked {clicks} times\", on_click=my_click_handler)\n",
    "    return button\n",
    "\n",
    "\n",
    "ButtonClick()"
   ]
  },
  {
   "cell_type": "code",
   "execution_count": null,
   "id": "952021df-e11c-4483-967f-1fc2b97398f2",
   "metadata": {},
   "outputs": [],
   "source": [
    "@reacton.component\n",
    "def ManyButtons(count=4):\n",
    "    count, set_count = reacton.use_state(count)\n",
    "    slider = w.IntSlider(min=0, max=20, value=count, on_value=set_count)\n",
    "    buttons = [ButtonClick() for i in range(count)]\n",
    "    return w.VBox(children=[slider, *buttons])\n",
    "\n",
    "\n",
    "display(ManyButtons())"
   ]
  },
  {
   "cell_type": "markdown",
   "id": "36ecb76f",
   "metadata": {},
   "source": [
    "# Using ipyvuetify"
   ]
  },
  {
   "cell_type": "code",
   "execution_count": null,
   "id": "95b7d6c2",
   "metadata": {},
   "outputs": [],
   "source": [
    "import reacton\n",
    "import reacton.ipyvuetify as rv\n",
    "\n",
    "\n",
    "@reacton.component\n",
    "def ButtonClick():\n",
    "    # first render, this return 0, after that, the last argument\n",
    "    # of set_clicks\n",
    "    clicks, set_clicks = reacton.use_state(0)\n",
    "\n",
    "    def my_click_handler(*ignore_args):\n",
    "        # trigger a new render with a new value for clicks\n",
    "        set_clicks(clicks + 1)\n",
    "\n",
    "    button = rv.Btn(children=[f\"Clicked {clicks} times\"])\n",
    "    rv.use_event(button, \"click\", my_click_handler)\n",
    "    return button\n",
    "\n",
    "\n",
    "ButtonClick()"
   ]
  },
  {
   "cell_type": "code",
   "execution_count": null,
   "id": "7c851d6e",
   "metadata": {},
   "outputs": [],
   "source": []
  }
 ],
 "metadata": {
  "kernelspec": {
   "display_name": "Python 3.9.10 ('dev')",
   "language": "python",
   "name": "python3"
  },
  "language_info": {
   "codemirror_mode": {
    "name": "ipython",
    "version": 3
   },
   "file_extension": ".py",
   "mimetype": "text/x-python",
   "name": "python",
   "nbconvert_exporter": "python",
   "pygments_lexer": "ipython3",
   "version": "3.9.10"
  },
  "vscode": {
   "interpreter": {
    "hash": "3f54047370d637df4a365f9bae65e296d7b1c0737aca7baed81d825616d991e7"
   }
  }
 },
 "nbformat": 4,
 "nbformat_minor": 5
}
