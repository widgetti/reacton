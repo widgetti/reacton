{
 "cells": [
  {
   "cell_type": "markdown",
   "id": "2d740c7d",
   "metadata": {},
   "source": [
    "# Markdown component\n",
    "Given this [suggestion](https://github.com/jupyter-widgets/ipywidgets/issues/2428#issuecomment-500084610) on how to make a widget with markdown, we don't have an obvious path forward to create a new Markdown widget that can be reused. Should we inherit? From which class? Should we compose and inherit from VBox or HBox and add the HTML widget as a single child?\n",
    "\n",
    "With react-ipywidgest there is an obvious way:"
   ]
  },
  {
   "cell_type": "code",
   "execution_count": null,
   "id": "858fe6ef",
   "metadata": {},
   "outputs": [],
   "source": [
    "import reacton\n",
    "import markdown\n",
    "import reacton.ipywidgets as w\n",
    "\n",
    "\n",
    "@reacton.component\n",
    "def Markdown(md: str):\n",
    "    html = markdown.markdown(md)\n",
    "    return w.HTML(value=html)\n",
    "\n",
    "\n",
    "Markdown(\"# Reacton rocks\\nSeriously **bold** idea!\")"
   ]
  },
  {
   "cell_type": "markdown",
   "id": "e6ce3df3",
   "metadata": {},
   "source": [
    "# Markdown editor\n",
    "\n",
    "Now we can reuse this component, to make a Markdown editor."
   ]
  },
  {
   "cell_type": "code",
   "execution_count": null,
   "id": "6aa67310",
   "metadata": {},
   "outputs": [],
   "source": [
    "@reacton.component\n",
    "def MarkdownEditor(md: str):\n",
    "    md, set_md = reacton.use_state(md)\n",
    "    edit, set_edit = reacton.use_state(True)\n",
    "    with w.VBox() as main:\n",
    "        Markdown(md)\n",
    "        w.ToggleButton(description=\"Edit\", value=edit, on_value=set_edit)\n",
    "        if edit:\n",
    "            w.Textarea(value=md, on_value=set_md, rows=10)\n",
    "    return main\n",
    "\n",
    "\n",
    "MarkdownEditor(\"# Reacton rocks\\nSeriously **bold** idea!\")"
   ]
  },
  {
   "cell_type": "code",
   "execution_count": null,
   "id": "0573b7e7",
   "metadata": {},
   "outputs": [],
   "source": []
  }
 ],
 "metadata": {
  "kernelspec": {
   "display_name": "Python 3 (ipykernel)",
   "language": "python",
   "name": "python3"
  },
  "language_info": {
   "codemirror_mode": {
    "name": "ipython",
    "version": 3
   },
   "file_extension": ".py",
   "mimetype": "text/x-python",
   "name": "python",
   "nbconvert_exporter": "python",
   "pygments_lexer": "ipython3",
   "version": "3.9.10"
  }
 },
 "nbformat": 4,
 "nbformat_minor": 5
}
